{
 "cells": [
  {
   "cell_type": "code",
   "execution_count": 1,
   "metadata": {},
   "outputs": [],
   "source": [
    "import pandas as pd\n",
    "import numpy as np\n",
    "import matplotlib.pyplot as plt\n",
    "import seaborn as sns\n",
    "from sklearn.preprocessing import LabelEncoder\n",
    "from sklearn.model_selection import train_test_split\n",
    "from sklearn.ensemble import RandomForestClassifier\n",
    "from sklearn.neighbors import KNeighborsClassifier\n",
    "from sklearn.metrics import accuracy_score\n",
    "\n",
    "# Function to preprocess data\n",
    "def preprocess_data(data):\n",
    "    label_encoders = {}\n",
    "    categorical_columns = [\"profissao\", \"mix_credito\", \"comportamento_pagamento\"]\n",
    "    \n",
    "    for col in categorical_columns:\n",
    "        le = LabelEncoder()\n",
    "        data[col] = le.fit_transform(data[col])\n",
    "        label_encoders[col] = le\n",
    "    \n",
    "    return data, label_encoders\n",
    "\n",
    "# Function to train models\n",
    "def train_models(x_train, y_train):\n",
    "    models = {\n",
    "        \"RandomForest\": RandomForestClassifier(),\n",
    "        \"KNN\": KNeighborsClassifier()\n",
    "    }\n",
    "    \n",
    "    for name, model in models.items():\n",
    "        model.fit(x_train, y_train)\n",
    "    \n",
    "    return models\n",
    "\n",
    "# Function to evaluate models\n",
    "def evaluate_models(models, x_test, y_test):\n",
    "    for name, model in models.items():\n",
    "        predictions = model.predict(x_test)\n",
    "        accuracy = accuracy_score(y_test, predictions)\n",
    "        print(f\"{name} Accuracy: {accuracy:.4f}\")\n"
   ]
  },
  {
   "cell_type": "code",
   "execution_count": 2,
   "metadata": {},
   "outputs": [
    {
     "name": "stdout",
     "output_type": "stream",
     "text": [
      "Initial Data Info:\n",
      "<class 'pandas.core.frame.DataFrame'>\n",
      "RangeIndex: 100000 entries, 0 to 99999\n",
      "Data columns (total 25 columns):\n",
      " #   Column                    Non-Null Count   Dtype  \n",
      "---  ------                    --------------   -----  \n",
      " 0   id_cliente                100000 non-null  int64  \n",
      " 1   mes                       100000 non-null  int64  \n",
      " 2   idade                     100000 non-null  float64\n",
      " 3   profissao                 100000 non-null  object \n",
      " 4   salario_anual             100000 non-null  float64\n",
      " 5   num_contas                100000 non-null  float64\n",
      " 6   num_cartoes               100000 non-null  float64\n",
      " 7   juros_emprestimo          100000 non-null  float64\n",
      " 8   num_emprestimos           100000 non-null  float64\n",
      " 9   dias_atraso               100000 non-null  float64\n",
      " 10  num_pagamentos_atrasados  100000 non-null  float64\n",
      " 11  num_verificacoes_credito  100000 non-null  float64\n",
      " 12  mix_credito               100000 non-null  object \n",
      " 13  divida_total              100000 non-null  float64\n",
      " 14  taxa_uso_credito          100000 non-null  float64\n",
      " 15  idade_historico_credito   100000 non-null  float64\n",
      " 16  investimento_mensal       100000 non-null  float64\n",
      " 17  comportamento_pagamento   100000 non-null  object \n",
      " 18  saldo_final_mes           100000 non-null  float64\n",
      " 19  score_credito             100000 non-null  object \n",
      " 20  emprestimo_carro          100000 non-null  int64  \n",
      " 21  emprestimo_casa           100000 non-null  int64  \n",
      " 22  emprestimo_pessoal        100000 non-null  int64  \n",
      " 23  emprestimo_credito        100000 non-null  int64  \n",
      " 24  emprestimo_estudantil     100000 non-null  int64  \n",
      "dtypes: float64(14), int64(7), object(4)\n",
      "memory usage: 19.1+ MB\n",
      "None\n"
     ]
    }
   ],
   "source": [
    "\n",
    "# Load dataset\n",
    "data = pd.read_csv(\"/home/rahima/JP/clientes.csv\")\n",
    "print(\"Initial Data Info:\")\n",
    "print(data.info())\n"
   ]
  },
  {
   "cell_type": "code",
   "execution_count": 3,
   "metadata": {},
   "outputs": [
    {
     "name": "stdout",
     "output_type": "stream",
     "text": [
      "RandomForest Accuracy: 0.8242\n",
      "KNN Accuracy: 0.7369\n",
      "Predictions for new clients: ['Poor' 'Poor' 'Standard']\n"
     ]
    }
   ],
   "source": [
    "\n",
    "# Preprocessing\n",
    "data, encoders = preprocess_data(data)\n",
    "x = data.drop(columns=[\"score_credito\", \"id_cliente\"])\n",
    "y = data[\"score_credito\"]\n",
    "x_train, x_test, y_train, y_test = train_test_split(x, y, test_size=0.3, random_state=42)\n",
    "\n",
    "# Train models\n",
    "models = train_models(x_train, y_train)\n",
    "\n",
    "# Evaluate models\n",
    "evaluate_models(models, x_test, y_test)\n",
    "\n",
    "# Load new clients for prediction\n",
    "new_clients = pd.read_csv(\"novos_clientes.csv\")\n",
    "for col, encoder in encoders.items():\n",
    "    new_clients[col] = encoder.transform(new_clients[col])\n",
    "\n",
    "best_model = models[\"RandomForest\"]\n",
    "predictions = best_model.predict(new_clients)\n",
    "print(\"Predictions for new clients:\", predictions)\n"
   ]
  },
  {
   "cell_type": "code",
   "execution_count": null,
   "metadata": {},
   "outputs": [],
   "source": []
  }
 ],
 "metadata": {
  "kernelspec": {
   "display_name": "Python 3",
   "language": "python",
   "name": "python3"
  },
  "language_info": {
   "codemirror_mode": {
    "name": "ipython",
    "version": 3
   },
   "file_extension": ".py",
   "mimetype": "text/x-python",
   "name": "python",
   "nbconvert_exporter": "python",
   "pygments_lexer": "ipython3",
   "version": "3.7.8"
  }
 },
 "nbformat": 4,
 "nbformat_minor": 4
}
